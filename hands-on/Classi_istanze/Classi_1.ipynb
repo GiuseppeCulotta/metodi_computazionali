{
 "cells": [
  {
   "cell_type": "code",
   "execution_count": 101,
   "id": "483c6c1a-be31-45f8-8aa1-10008689189b",
   "metadata": {},
   "outputs": [
    {
     "name": "stdout",
     "output_type": "stream",
     "text": [
      "lo studente studia:  fisica\n"
     ]
    }
   ],
   "source": [
    "#Metodo INIT (inizializzatore)\n",
    "\n",
    "class Studente: #classe\n",
    "    def __init__(self, nome, cognome, corso_di_studi):\n",
    "        #attributi della classe\n",
    "        self.nome = nome \n",
    "        self.cognome = cognome\n",
    "        self.corso_di_studi = corso_di_studi\n",
    "\n",
    "studente_uno = Studente (\"Aldo\", \"Baglio\", \"fisica\") #istanza\n",
    "\n",
    "print (\"lo studente studia: \", studente_uno.corso_di_studi) #richiamo, nella funzione print, uno degli attribti della classe \"Studente\" facente riferimento all'istanza \"studente_uno\""
   ]
  },
  {
   "cell_type": "code",
   "execution_count": 103,
   "id": "6f0ee25a-17ae-42f4-94a6-efbaeb923982",
   "metadata": {},
   "outputs": [
    {
     "name": "stdout",
     "output_type": "stream",
     "text": [
      "Scheda Studente\n",
      " Nome:Aldo\n",
      " Cognome:Baglio\n",
      " Corso Di Studi:fisica\n"
     ]
    }
   ],
   "source": [
    "#metodo2 \n",
    "class Studente:\n",
    "    def __init__(self, nome, cognome, corso_di_studi):\n",
    "        self.nome = nome\n",
    "        self.cognome = cognome\n",
    "        self.corso_di_studi = corso_di_studi\n",
    "\n",
    "    def scheda_personale(self): #ad ogni metodo viene passato prima di tutto \"SELF\"\n",
    "        return f\"Scheda Studente\\n Nome:{self.nome}\\n Cognome:{self.cognome}\\n Corso Di Studi:{self.corso_di_studi}\"\n",
    "\n",
    "\n",
    "studente_uno = Studente (\"Aldo\", \"Baglio\", \"fisica\")\n",
    "print(studente_uno.scheda_personale())"
   ]
  },
  {
   "cell_type": "code",
   "execution_count": 105,
   "id": "0c888e68-0e38-480c-a629-6ae2dc0aec12",
   "metadata": {},
   "outputs": [
    {
     "name": "stdout",
     "output_type": "stream",
     "text": [
      "Scheda Studente\n",
      " Nome:Aldo\n",
      " Cognome:Baglio\n",
      " Corso Di Studi:fisica\n",
      " Ore settimanali: 36\n",
      "\n",
      "Scheda Studente\n",
      " Nome:Giacomo\n",
      " Cognome:Poretti\n",
      " Corso Di Studi:giurisprudenza\n",
      " Ore settimanali: 50\n",
      "\n"
     ]
    }
   ],
   "source": [
    "#variabili di classe (attributi condivisi da tutte le istanze della classe)\n",
    "\n",
    "class Studente:\n",
    "    \n",
    "    ore_settimanali = 36 #essendo un attributo che deve condividere ogni istanza della classe, lo inserisco indentato\n",
    "    #come perte della classe stesse; e non come elemento di unaa delle funzioni che deficnisco all'interno della classe\n",
    "    \n",
    "    def __init__(self, nome, cognome, corso_di_studi):\n",
    "        self.nome = nome\n",
    "        self.cognome = cognome\n",
    "        self.corso_di_studi = corso_di_studi\n",
    "\n",
    "    def scheda_personale(self): #ad ogni metodo viene passato prima di tutto \"SELF\"\n",
    "        return f\"Scheda Studente\\n Nome:{self.nome}\\n Cognome:{self.cognome}\\n Corso Di Studi:{self.corso_di_studi}\\n Ore settimanali: {self.ore_settimanali}\\n\"\n",
    "        #avrei potuto metter anche \"{Studente.ore_settimanali} perchè è una variabile di classe\n",
    "\n",
    "studente_uno = Studente (\"Aldo\", \"Baglio\", \"fisica\")\n",
    "studente_due = Studente (\"Giacomo\", \"Poretti\", \"giurisprudenza\")\n",
    "studente_due.ore_settimanali = 50 #modifico l'attributo delle ore settimanali solo per lo studente 2\n",
    "print (studente_uno.scheda_personale())\n",
    "print (studente_due.scheda_personale())"
   ]
  },
  {
   "cell_type": "code",
   "execution_count": 106,
   "id": "df0d76a8-7a24-4d1a-a95c-1f1c44580e62",
   "metadata": {},
   "outputs": [
    {
     "name": "stdout",
     "output_type": "stream",
     "text": [
      "{'nome': 'Aldo', 'cognome': 'Baglio', 'corso_di_studi': 'fisica'}\n"
     ]
    }
   ],
   "source": [
    "#stampa le caratteristiche dello studente uno sottoforma di Dictionary {'key' : value}\n",
    "print(studente_uno.__dict__)"
   ]
  },
  {
   "cell_type": "code",
   "execution_count": 107,
   "id": "aa754471-111d-41d6-ac01-3a0e04ba715d",
   "metadata": {},
   "outputs": [
    {
     "name": "stdout",
     "output_type": "stream",
     "text": [
      "2\n"
     ]
    }
   ],
   "source": [
    "#incremento e lavoro con le variabili di classe\n",
    "\n",
    "class Studente:\n",
    "    ore_settimanali = 36\n",
    "    corpo_studentesco = 0\n",
    "\n",
    "    def __init__(self, nome, cognome, corso_di_studi):\n",
    "        self.nome = nome\n",
    "        self.cognome = cognome\n",
    "        self.corso_di_studi = corso_di_studi\n",
    "        Studente.corpo_studentesco += 1\n",
    "\n",
    "    def scheda_personale(self):\n",
    "        return f\"Scheda Studente\\n Nome:{self.nome}\\n Cognome:{self.cognome}\\n Corso Di Studi:{self.corso_di_studi}\\n Ore Settimanali:{self.ore_settimanali}\"\n",
    "\n",
    "studente_uno = Studente(\"Py\", \"Mike\", \"programmazione\")\n",
    "studente_due = Studente(\"Marta\", \"Stannis\", \"scienze politiche\")\n",
    "\n",
    "print(Studente.corpo_studentesco) #il risultato sarà 2. Questo perchè la funzione \"__init__\" è stata chiamatadue volte per creare, appunto, due studenti.\n",
    "# il valore di Studente.corpo_studentesco è aumentato di uno per ogni creazione di studente (cioè per ogni avvio/chiamata della funzione \"__init__\"\n"
   ]
  },
  {
   "cell_type": "code",
   "execution_count": 119,
   "id": "8cb8a9d1-520c-4058-988c-65b9c5dc7266",
   "metadata": {},
   "outputs": [
    {
     "name": "stdout",
     "output_type": "stream",
     "text": [
      "\n",
      "            Nome: Giovanni\n",
      "            Cognome: Storti\n",
      "            Età: 70\n",
      "            Residenza: Da qualche parte in Italia\n",
      "\n",
      "Modifica Scheda:\n",
      "        1 - Nome\n",
      "        2 - Cognome\n",
      "        3 - Età\n",
      "        4 - Residenza\n"
     ]
    },
    {
     "name": "stdin",
     "output_type": "stream",
     "text": [
      "Cosa Desideri modificare? 4\n",
      "Nuova Residenza -->  8\n"
     ]
    },
    {
     "name": "stdout",
     "output_type": "stream",
     "text": [
      "\n",
      "            Nome: Giovanni\n",
      "            Cognome: Storti\n",
      "            Età: 70\n",
      "            Residenza: 8\n",
      "\n"
     ]
    }
   ],
   "source": [
    "## Ereditarietà\n",
    "# Proprio come un bambino eredita dai genitori \n",
    "#alcuni tratti distintivi come colore degli occhi e dei capelli, \n",
    "#in informatica l'ereditarietà ci consente di creare classi figlie a partire da classi genitore, \n",
    "#ereditandone in questa maniera gli attributi ed i metodi.\n",
    "#Essenzalmente: mi serve per creare una classe (genitore) in cui ci sono gli attributi comuni a tutte le sottoclassi (figli) che \n",
    "#andrò a creare. Es: la classe \"meccanico\" e la classe \"studente\" hanno entrame in comune gli attibuti: nome, cognome, ecc.\n",
    "\n",
    "\n",
    "class Persona:\n",
    "\n",
    "    def __init__(self, nome, cognome, età, residenza):\n",
    "        self.nome = nome\n",
    "        self.cognome = cognome\n",
    "        self.età = età\n",
    "        self.residenza = residenza\n",
    "\n",
    "    def scheda_personale(self):\n",
    "        scheda = f\"\"\"\n",
    "            Nome: {self.nome}\n",
    "            Cognome: {self.cognome}\n",
    "            Età: {self.età}\n",
    "            Residenza: {self.residenza}\\n\"\"\"\n",
    "        return scheda\n",
    "\n",
    "    def modifica_scheda(self):\n",
    "        print(\"\"\"Modifica Scheda:\n",
    "        1 - Nome\n",
    "        2 - Cognome\n",
    "        3 - Età\n",
    "        4 - Residenza\"\"\")\n",
    "        scelta = input(\"Cosa Desideri modificare?\")\n",
    "        if scelta == \"1\":\n",
    "            self.nome = input(\"Nuovo Nome--> \")\n",
    "        elif scelta == \"2\":\n",
    "            self. cognome = input(\"Nuovo Cognome --> \")\n",
    "        elif scelta == \"3\":\n",
    "            self.età = int(input(\"Nuova età --> \"))\n",
    "        elif scelta == \"4\":\n",
    "            self.residenza = input(\"Nuova Residenza --> \")\n",
    "        elif scelta > \"4\":\n",
    "            print (\"Scelta non presente. Riprova!\")\n",
    "\n",
    "tizio_uno = Persona (\"Giovanni\", \"Storti\", \"70\", \"Da qualche parte in Italia\")\n",
    "print(tizio_uno.scheda_personale())\n",
    "tizio_uno.modifica_scheda() #avvio la funzione per modificare i dati in iferimento alla  persona che \"sta puntando alla funzione modifica_scheda()\"\n",
    "print(tizio_uno.scheda_personale())\n"
   ]
  },
  {
   "cell_type": "code",
   "execution_count": 121,
   "id": "425e448a-7db0-4fa3-af4f-d7d1533376c3",
   "metadata": {},
   "outputs": [
    {
     "name": "stdout",
     "output_type": "stream",
     "text": [
      "\n",
      "            Nome: Py\n",
      "            Cognome: Mike\n",
      "            Età: 24\n",
      "            Residenza: Casa Dello Studente\n",
      "\n",
      "\n",
      "            Nome: Mario\n",
      "            Cognome: Rossi\n",
      "            Età: 33\n",
      "            Residenza: Viale Roma 32\n",
      "\n"
     ]
    }
   ],
   "source": [
    "class Studente(Persona): #creo la classe Studente, sottoclasse della classe genitore \"Persona\"\n",
    "    pass\n",
    "\n",
    "class Insegnante(Persona):\n",
    "    pass\n",
    "\n",
    "studente_uno = Studente(\"Py\", \"Mike\", 24, \"Casa Dello Studente\")\n",
    "insegnante_uno = Insegnante(\"Mario\", \"Rossi\", 33, \"Viale Roma 32\")\n",
    "\n",
    "print(studente_uno.scheda_personale())\n",
    "print(insegnante_uno.scheda_personale())\n"
   ]
  },
  {
   "cell_type": "code",
   "execution_count": 123,
   "id": "f1cc5c66-c8ea-4c10-ae4c-7d5449c8f8ce",
   "metadata": {},
   "outputs": [
    {
     "name": "stdout",
     "output_type": "stream",
     "text": [
      "\n",
      "            Profilo = Studente\n",
      "            Corso di studi: biologia\n",
      "            Nome: Cicco\n",
      "            Cognome: Bello\n",
      "            Età: 23\n",
      "            Residenza: Casa Dello Studente\n",
      "            \n",
      "\n",
      "\n",
      "            Profilo = Studente\n",
      "            Materie: analisi 1, algebra lineare\n",
      "            Nome: Checco\n",
      "            Cognome: AAAA\n",
      "            Età: 57\n",
      "            Residenza: Casa sua\n",
      "            \n",
      "\n"
     ]
    }
   ],
   "source": [
    "#Funzione super()\n",
    "#creo ora un metodo __init__ per studente e insegnante per poter scrivere le caratteristiche che NON hanno in comune\n",
    "#Per fare ciò, uso la funzione super()\n",
    "\n",
    "class Studente(Persona):\n",
    "    profilo = \"Studente\"\n",
    "\n",
    "    def __init__(self, nome, cognome, età, residenza, corso_di_studio):\n",
    "        super().__init__(nome, cognome, età, residenza) #Per mantenere la semplicità nel nostro codice utilizziamo la funzione super()\n",
    "        self.corso_di_studio = corso_di_studio          #per far in modo che nome, cognome, ed età vengano gestiti dal metodo __init__ della classe genitore, ovvero la classe Persona. \n",
    "                                                        #Le sottoclassi Studente e Insegnante gestiranno rispettivamente l'corso_di_studio e l'elenco delle materie.\n",
    "    def scheda_personale(self):\n",
    "        scheda = f\"\"\"\n",
    "            Profilo = {Studente.profilo}\n",
    "            Corso di studi: {self.corso_di_studio}\n",
    "            Nome: {self.nome}\n",
    "            Cognome: {self.cognome}\n",
    "            Età: {self.età}\n",
    "            Residenza: {self.residenza}\n",
    "            \\n\"\"\"\n",
    "        return scheda\n",
    "    \n",
    "        \n",
    "class Insegnante(Persona):\n",
    "    profilo = \"Insegnante\"\n",
    "\n",
    "    def __init__(self, nome, cognome, età, residenza, materie=None):\n",
    "        super().__init__(nome, cognome, età, residenza)\n",
    "        if materie is None:\n",
    "            self.materie = []\n",
    "        else:\n",
    "            self.materie = materie\n",
    "\n",
    "    def scheda_personale(self):\n",
    "        scheda = f\"\"\"\n",
    "            Profilo = {Studente.profilo}\n",
    "            Materie: {self.materie}\n",
    "            Nome: {self.nome}\n",
    "            Cognome: {self.cognome}\n",
    "            Età: {self.età}\n",
    "            Residenza: {self.residenza}\n",
    "            \\n\"\"\"\n",
    "        return scheda\n",
    "\n",
    "\n",
    "studente_uno = Studente(\"Cicco\", \"Bello\", 23, \"Casa Dello Studente\", \"biologia\")\n",
    "insegnante_uno = Insegnante(\"Checco\", \"AAAA\", 57, \"Casa sua\", \"analisi 1, algebra lineare\")\n",
    "print (studente_uno.scheda_personale())\n",
    "print (insegnante_uno.scheda_personale())\n"
   ]
  },
  {
   "cell_type": "code",
   "execution_count": 9,
   "id": "a57bf59a-670f-4e83-9405-0f1f3e00cf6c",
   "metadata": {},
   "outputs": [
    {
     "name": "stdout",
     "output_type": "stream",
     "text": [
      "\n",
      "        nome = Tony\n",
      "        cognome = Stark\n",
      "        età = 40\n",
      "        residenza = Torre Stark\n",
      "        \n"
     ]
    }
   ],
   "source": [
    "#Metodi di Classe: sono legati alla classe e non alle istanze. I parametri passeti alle\n",
    "#funzioni (metodi) dei metodi di classe sono le classi stesse e non le istanze\n",
    "#Per convenzione, come parametro non si utilizza self, bensì CLS; e per far sì che venga passata la classe\n",
    "#e non l'istanza, si usa un decoratore: \"@classmethod\"\n",
    "\n",
    "class Persona:\n",
    "\n",
    "    def __init__(self, nome, cognome, età, residenza):\n",
    "        self.nome = nome\n",
    "        self.cognome = cognome\n",
    "        self.età = età\n",
    "        self.residenza = residenza\n",
    "\n",
    "    def scheda_personale(self):\n",
    "        scheda = f\"\"\"\n",
    "        nome = {self.nome}\n",
    "        cognome = {self.cognome}\n",
    "        età = {self.età}\n",
    "        residenza = {self.residenza}\n",
    "        \"\"\"\n",
    "        return scheda\n",
    "\n",
    "    #I decoratori ci permette di alterare il comportamento dei metodi a nostro piacimento, \n",
    "    #e che @classmethod è il decoratore che si utilizza per creare i metodi di classe, \n",
    "    #e che permette quindi di passare come parametro la classe invece dell'istanza.\n",
    "    \n",
    "    @classmethod\n",
    "    def from_string(cls, stringa_persona):\n",
    "        nome, cognome, età, residenza = stringa_persona.split(\"-\") #permette di skippare i \"-\"\n",
    "        return cls(nome, cognome, età, residenza)\n",
    "\n",
    "\n",
    "#posso ora definire un'oggetto Persona anche in un modo diverso:\n",
    "\n",
    "iron_man = \"Tony-Stark-40-Torre Stark\"\n",
    "\n",
    "IronMan = Persona.from_string(iron_man)\n",
    "print (IronMan.scheda_personale())"
   ]
  },
  {
   "cell_type": "code",
   "execution_count": 23,
   "id": "d2438afb-8bf4-4cdf-9d9a-d5fac8332648",
   "metadata": {},
   "outputs": [
    {
     "ename": "IndentationError",
     "evalue": "unindent does not match any outer indentation level (<string>, line 25)",
     "output_type": "error",
     "traceback": [
      "\u001b[0;36m  File \u001b[0;32m<string>:25\u001b[0;36m\u001b[0m\n\u001b[0;31m    def __init__(self, nome, cognome, età, residenza, corso_di_studio):\u001b[0m\n\u001b[0m                                                                       ^\u001b[0m\n\u001b[0;31mIndentationError\u001b[0m\u001b[0;31m:\u001b[0m unindent does not match any outer indentation level\n"
     ]
    }
   ],
   "source": [
    "#parametro \"*args\": serve nei casi in cui, quando uso il @classmethod, ci possono essere più parametri\n",
    "#passati alla funzione\n",
    "\n",
    "\n",
    "class Persona:\n",
    "\n",
    "    def __init__(self, nome, cognome, età, residenza):\n",
    "        self.nome = nome\n",
    "        self.cognome = cognome\n",
    "        self.età = età\n",
    "        self.residenza = residenza\n",
    "\n",
    "    def scheda_personale(self):\n",
    "        scheda = f\"\"\"\n",
    "        nome = {self.nome}\n",
    "        cognome = {self.cognome}\n",
    "        età = {self.età}\n",
    "        residenza = {self.residenza}\n",
    "        \"\"\"\n",
    "        return scheda\n",
    "\n",
    "class Studente(Persona):\n",
    "        profilo = \"Studente\"\n",
    "\n",
    "    def __init__(self, nome, cognome, età, residenza, corso_di_studio):\n",
    "        super().__init__(nome, cognome, età, residenza) #Per mantenere la semplicità nel nostro codice utilizziamo la funzione super()\n",
    "        self.corso_di_studio = corso_di_studio \n",
    "    \n",
    "class Insegnante(Persona):\n",
    "    profilo = \"Insegnante\"\n",
    "\n",
    "    def __init__(self, nome, cognome, età, residenza, materie=None):\n",
    "        super().__init__(nome, cognome, età, residenza)\n",
    "        \n",
    "        if materie is None:\n",
    "            self.materie = []\n",
    "         else:\n",
    "            self.materie = materie\n",
    "\n",
    "\n",
    "    \n",
    "    @classmethod\n",
    "    def from_string(cls, stringa_persona, *args):\n",
    "        nome, cognome, età, residenza = stringa_persona.split(\"-\")\n",
    "        return cls(nome, cognome, età, residenza, *args)\n",
    "\n",
    "iron_man = \"Tony-Stark-40-Torre Stark\"\n",
    "zuck = \"Mark-Zuckerberg-33-California\"\n",
    "\n",
    "insg_uno = Insegnante.from_string(iron_man,\"Ingegneria\")\n",
    "stud_uno = Studente.from_string(zuck,\"SEO\")\n",
    "\n",
    "print(insg_uno.scheda_personale())\n",
    "print(stud_uno.scheda_personale())\n"
   ]
  },
  {
   "cell_type": "code",
   "execution_count": null,
   "id": "600e1fd4-bfea-40d1-b7bd-6fc13255e0cc",
   "metadata": {},
   "outputs": [],
   "source": []
  },
  {
   "cell_type": "code",
   "execution_count": 35,
   "id": "2e1b03af-5da3-48c0-950f-f1963f922b5b",
   "metadata": {},
   "outputs": [
    {
     "name": "stdout",
     "output_type": "stream",
     "text": [
      "\n",
      "            Nome: Persona\n",
      "            Creato da: PyMike\n",
      "            Portale: www.programmareinpython.it\n",
      "            Commenti: Scritto usando Python 3\n",
      "            \n"
     ]
    }
   ],
   "source": [
    "#Metodi STATICI: a loro non passiamo nessuno dei due, ne cls ne self.\n",
    "#I Metodi Statici sono funzioni che teniamo all'interno della classe perché hanno \n",
    "#una qualche correlazione con il contesto che stiamo modellando, ma non vi sono legati direttamente.\n",
    "# Per creare un metodo statico usiamo il decoratore corrispondente, ovvero \"@staticmethod\".\n",
    "\n",
    "class Persona:\n",
    "\n",
    "    def __init__(self, nome, cognome, età, residenza):\n",
    "        self.nome = nome\n",
    "        self.cognome = cognome\n",
    "        self.età = età\n",
    "        self.residenza = residenza\n",
    "\n",
    "    @staticmethod\n",
    "    def info_prog():\n",
    "        info = \"\"\"\n",
    "            Nome: Persona\n",
    "            Creato da: PyMike\n",
    "            Portale: www.programmareinpython.it\n",
    "            Commenti: Scritto usando Python 3\n",
    "            \"\"\"\n",
    "\n",
    "        return info\n",
    "\n",
    "#quindi ora posso accedere al metodo anche senza aver creato nun oggetto.\n",
    "\n",
    "print(Persona.info_prog())\n",
    "\n",
    "#per quanto i casi d'uso siano effettivamente limitati, talvolta i metodi statici possono aiutarci a mantenere il codice pulito e organizzato, \n",
    "#si tratta quindi di uno strumento che è comunque bene conoscere,\n",
    "#anche perché estremamente semplice da capire.\n"
   ]
  },
  {
   "cell_type": "code",
   "execution_count": null,
   "id": "919b92a2-27a1-43c2-b1cc-14b842647ae3",
   "metadata": {},
   "outputs": [],
   "source": []
  },
  {
   "cell_type": "code",
   "execution_count": 38,
   "id": "e4b2634a-0929-4d9c-ae9f-6b43e7b90755",
   "metadata": {},
   "outputs": [],
   "source": [
    "#Dunder Methods (Metodi Speciali)\n",
    "#Il loro nome inizia e finiscce con due underscore \"__\". Un esempio è il metodo\n",
    "# dunder init (__initi__)\n",
    "#I metodi dunder non vengono chiamati direttamente da noi, ma è Python a chiamarli in determinate circostanze. \n",
    "#\n",
    "#Vedi https://www.programmareinpython.it/video-corso-python-programmazione-a-oggetti/06-i-metodi-magici-dunder-methods/\n",
    "#"
   ]
  },
  {
   "cell_type": "code",
   "execution_count": null,
   "id": "9391642c-e711-449d-8188-337285b81c86",
   "metadata": {},
   "outputs": [],
   "source": []
  },
  {
   "cell_type": "code",
   "execution_count": null,
   "id": "e604d739-fc8f-477d-a7e9-88274436dfe7",
   "metadata": {},
   "outputs": [],
   "source": []
  }
 ],
 "metadata": {
  "kernelspec": {
   "display_name": "Python [conda env:base] *",
   "language": "python",
   "name": "conda-base-py"
  },
  "language_info": {
   "codemirror_mode": {
    "name": "ipython",
    "version": 3
   },
   "file_extension": ".py",
   "mimetype": "text/x-python",
   "name": "python",
   "nbconvert_exporter": "python",
   "pygments_lexer": "ipython3",
   "version": "3.12.7"
  }
 },
 "nbformat": 4,
 "nbformat_minor": 5
}
